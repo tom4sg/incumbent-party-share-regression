{
 "cells": [
  {
   "cell_type": "code",
   "execution_count": 23,
   "id": "9ae3ffff-25b9-4afc-b9c8-ec1f0aaa471c",
   "metadata": {},
   "outputs": [
    {
     "data": {
      "text/html": [
       "<div>\n",
       "<style scoped>\n",
       "    .dataframe tbody tr th:only-of-type {\n",
       "        vertical-align: middle;\n",
       "    }\n",
       "\n",
       "    .dataframe tbody tr th {\n",
       "        vertical-align: top;\n",
       "    }\n",
       "\n",
       "    .dataframe thead th {\n",
       "        text-align: right;\n",
       "    }\n",
       "</style>\n",
       "<table border=\"1\" class=\"dataframe\">\n",
       "  <thead>\n",
       "    <tr style=\"text-align: right;\">\n",
       "      <th></th>\n",
       "      <th>demvotes</th>\n",
       "      <th>incumbent_party</th>\n",
       "      <th>repvotes</th>\n",
       "      <th>year</th>\n",
       "      <th>total_votes</th>\n",
       "      <th>incumbent_party_share</th>\n",
       "      <th>avg_recent_growth</th>\n",
       "      <th>dem_candidate</th>\n",
       "      <th>rep_candidate</th>\n",
       "      <th>winner</th>\n",
       "      <th>incumbent_victory</th>\n",
       "    </tr>\n",
       "  </thead>\n",
       "  <tbody>\n",
       "    <tr>\n",
       "      <th>0</th>\n",
       "      <td>24179347</td>\n",
       "      <td>democrat</td>\n",
       "      <td>21991292</td>\n",
       "      <td>1948</td>\n",
       "      <td>46170639</td>\n",
       "      <td>0.523695</td>\n",
       "      <td>2.945063</td>\n",
       "      <td>Harry S. Truman</td>\n",
       "      <td>Thomas E. Dewey</td>\n",
       "      <td>Harry S. Truman</td>\n",
       "      <td>True</td>\n",
       "    </tr>\n",
       "    <tr>\n",
       "      <th>1</th>\n",
       "      <td>27375090</td>\n",
       "      <td>democrat</td>\n",
       "      <td>34075529</td>\n",
       "      <td>1952</td>\n",
       "      <td>61450619</td>\n",
       "      <td>0.445481</td>\n",
       "      <td>3.491052</td>\n",
       "      <td>Adlai Stevenson</td>\n",
       "      <td>Dwight D. Eisenhower</td>\n",
       "      <td>Dwight D. Eisenhower</td>\n",
       "      <td>False</td>\n",
       "    </tr>\n",
       "    <tr>\n",
       "      <th>2</th>\n",
       "      <td>26028028</td>\n",
       "      <td>republican</td>\n",
       "      <td>35579180</td>\n",
       "      <td>1956</td>\n",
       "      <td>61607208</td>\n",
       "      <td>0.577517</td>\n",
       "      <td>2.818698</td>\n",
       "      <td>Adlai Stevenson</td>\n",
       "      <td>Dwight D. Eisenhower</td>\n",
       "      <td>Dwight D. Eisenhower</td>\n",
       "      <td>True</td>\n",
       "    </tr>\n",
       "    <tr>\n",
       "      <th>3</th>\n",
       "      <td>34220984</td>\n",
       "      <td>republican</td>\n",
       "      <td>34108157</td>\n",
       "      <td>1960</td>\n",
       "      <td>68329141</td>\n",
       "      <td>0.499174</td>\n",
       "      <td>0.126799</td>\n",
       "      <td>John F. Kennedy</td>\n",
       "      <td>Richard Nixon</td>\n",
       "      <td>John F. Kennedy</td>\n",
       "      <td>False</td>\n",
       "    </tr>\n",
       "    <tr>\n",
       "      <th>4</th>\n",
       "      <td>43129040</td>\n",
       "      <td>democrat</td>\n",
       "      <td>27175754</td>\n",
       "      <td>1964</td>\n",
       "      <td>70304794</td>\n",
       "      <td>0.613458</td>\n",
       "      <td>4.391619</td>\n",
       "      <td>Lyndon B. Johnson</td>\n",
       "      <td>Barry Goldwater</td>\n",
       "      <td>Lyndon B. Johnson</td>\n",
       "      <td>True</td>\n",
       "    </tr>\n",
       "  </tbody>\n",
       "</table>\n",
       "</div>"
      ],
      "text/plain": [
       "   demvotes incumbent_party  repvotes  year  total_votes  \\\n",
       "0  24179347        democrat  21991292  1948     46170639   \n",
       "1  27375090        democrat  34075529  1952     61450619   \n",
       "2  26028028      republican  35579180  1956     61607208   \n",
       "3  34220984      republican  34108157  1960     68329141   \n",
       "4  43129040        democrat  27175754  1964     70304794   \n",
       "\n",
       "   incumbent_party_share  avg_recent_growth      dem_candidate  \\\n",
       "0               0.523695           2.945063    Harry S. Truman   \n",
       "1               0.445481           3.491052    Adlai Stevenson   \n",
       "2               0.577517           2.818698    Adlai Stevenson   \n",
       "3               0.499174           0.126799    John F. Kennedy   \n",
       "4               0.613458           4.391619  Lyndon B. Johnson   \n",
       "\n",
       "          rep_candidate                winner  incumbent_victory  \n",
       "0       Thomas E. Dewey       Harry S. Truman               True  \n",
       "1  Dwight D. Eisenhower  Dwight D. Eisenhower              False  \n",
       "2  Dwight D. Eisenhower  Dwight D. Eisenhower               True  \n",
       "3         Richard Nixon       John F. Kennedy              False  \n",
       "4       Barry Goldwater     Lyndon B. Johnson               True  "
      ]
     },
     "execution_count": 23,
     "metadata": {},
     "output_type": "execute_result"
    }
   ],
   "source": [
    "import pandas as pd\n",
    "import numpy as np\n",
    "import matplotlib.pyplot as plt\n",
    "df = pd.read_csv(\"shared/data/bread_votes.csv\")\n",
    "df.head()"
   ]
  },
  {
   "cell_type": "code",
   "execution_count": 24,
   "id": "06519de5-bce2-42b5-9b83-33c31bdd1bef",
   "metadata": {},
   "outputs": [
    {
     "name": "stdout",
     "output_type": "stream",
     "text": [
      "Average Recent Growth Mean: 2.5\n",
      "Average Recent Growth Standard Deviation: 1.39\n",
      "# of Rows in dataset: 19\n"
     ]
    }
   ],
   "source": [
    "print(f\"Average Recent Growth Mean: {round(df['avg_recent_growth'].mean(), 2)}\")\n",
    "print(f\"Average Recent Growth Standard Deviation: {round(df['avg_recent_growth'].std(), 2)}\")\n",
    "print(f\"# of Rows in dataset: {len(df)}\")"
   ]
  },
  {
   "cell_type": "code",
   "execution_count": 25,
   "id": "2ea2109f-a69f-42cb-aeea-c421fb369d36",
   "metadata": {},
   "outputs": [
    {
     "data": {
      "image/png": "[encoded data removed]",
      "text/plain": [
       "<Figure size 720x432 with 1 Axes>"
      ]
     },
     "metadata": {
      "needs_background": "light"
     },
     "output_type": "display_data"
    }
   ],
   "source": [
    "#Enlarge the figure size of scatter plot so years can be seen more clearly\n",
    "plt.figure(figsize=(10, 6))\n",
    "\n",
    "#iterate through rows with .iterrows(), access index and row in each iteration\n",
    "for index, row in df.iterrows():\n",
    "    # plotting data point corresponding to a given row, with the row's avg_recent_growth as x and incumbent_party_share as y(color white)\n",
    "    plt.scatter(row['avg_recent_growth'], row['incumbent_party_share'], s=2, color='white')\n",
    "\n",
    "    #Like in the instructions, use plt.text to display the corresponding year at the (avg recent growth, incumbent party share) coordinate. \n",
    "    plt.text(row['avg_recent_growth'], row['incumbent_party_share'], str(row['year']))\n",
    "\n",
    "#Set Title and axes labels\n",
    "plt.title('Average Recent Growth vs. Incumbent Party Share with Year')\n",
    "plt.xlabel('Average Recent Growth')\n",
    "plt.ylabel('Incumbent Party Share')\n",
    "plt.show()"
   ]
  },
  {
   "cell_type": "code",
   "execution_count": 31,
   "id": "65213251-610e-45b7-b595-0b4fd871f0c4",
   "metadata": {},
   "outputs": [
    {
     "name": "stdout",
     "output_type": "stream",
     "text": [
      "Average Recent Growth and Incumbent Party Share Correlation: 0.697\n"
     ]
    }
   ],
   "source": [
    "print(f\"Average Recent Growth and Incumbent Party Share Correlation: {round(df['avg_recent_growth'].corr(df['incumbent_party_share']), 3)}\")"
   ]
  },
  {
   "cell_type": "markdown",
   "id": "2a7c742b-e016-4839-b955-7b88927cc10b",
   "metadata": {},
   "source": [
    "The correlation is a positive and fairly strong, suggesting that as the value for average recent growth in personal income increases, the Incumbent Party's voting share tends to positively increase as well. Based on the visualization of the data this correlation makes sense, as the data appears to move from the bottom left to the top right of the plot. \n",
    "\n",
    "After a term with a significantly higher than average growth in personal income, the incumbent party tends to see an increase in voting share. My hypothesis is that voter's associate their personal economic success with the incumbent party. It is in the individuals interest to maximize growth in personal income, and if recent growth occurs during a given year one could be inclined to believe that this has to do with the policies and legislations of the incumbent party."
   ]
  },
  {
   "cell_type": "code",
   "execution_count": 30,
   "id": "cd396705-37fa-4dbd-87fc-dd46ca62087b",
   "metadata": {},
   "outputs": [
    {
     "data": {
      "text/html": [
       "<table class=\"simpletable\">\n",
       "<caption>OLS Regression Results</caption>\n",
       "<tr>\n",
       "  <th>Dep. Variable:</th>    <td>incumbent_party_share</td> <th>  R-squared:         </th> <td>   0.486</td>\n",
       "</tr>\n",
       "<tr>\n",
       "  <th>Model:</th>                     <td>OLS</td>          <th>  Adj. R-squared:    </th> <td>   0.456</td>\n",
       "</tr>\n",
       "<tr>\n",
       "  <th>Method:</th>               <td>Least Squares</td>     <th>  F-statistic:       </th> <td>   16.08</td>\n",
       "</tr>\n",
       "<tr>\n",
       "  <th>Date:</th>               <td>Tue, 05 Nov 2024</td>    <th>  Prob (F-statistic):</th> <td>0.000907</td>\n",
       "</tr>\n",
       "<tr>\n",
       "  <th>Time:</th>                   <td>13:25:45</td>        <th>  Log-Likelihood:    </th> <td>  35.970</td>\n",
       "</tr>\n",
       "<tr>\n",
       "  <th>No. Observations:</th>        <td>    19</td>         <th>  AIC:               </th> <td>  -67.94</td>\n",
       "</tr>\n",
       "<tr>\n",
       "  <th>Df Residuals:</th>            <td>    17</td>         <th>  BIC:               </th> <td>  -66.05</td>\n",
       "</tr>\n",
       "<tr>\n",
       "  <th>Df Model:</th>                <td>     1</td>         <th>                     </th>     <td> </td>   \n",
       "</tr>\n",
       "<tr>\n",
       "  <th>Covariance Type:</th>        <td>nonrobust</td>       <th>                     </th>     <td> </td>   \n",
       "</tr>\n",
       "</table>\n",
       "<table class=\"simpletable\">\n",
       "<tr>\n",
       "          <td></td>             <th>coef</th>     <th>std err</th>      <th>t</th>      <th>P>|t|</th>  <th>[0.025</th>    <th>0.975]</th>  \n",
       "</tr>\n",
       "<tr>\n",
       "  <th>Intercept</th>         <td>    0.4526</td> <td>    0.019</td> <td>   24.456</td> <td> 0.000</td> <td>    0.414</td> <td>    0.492</td>\n",
       "</tr>\n",
       "<tr>\n",
       "  <th>avg_recent_growth</th> <td>    0.0261</td> <td>    0.007</td> <td>    4.010</td> <td> 0.001</td> <td>    0.012</td> <td>    0.040</td>\n",
       "</tr>\n",
       "</table>\n",
       "<table class=\"simpletable\">\n",
       "<tr>\n",
       "  <th>Omnibus:</th>       <td> 3.434</td> <th>  Durbin-Watson:     </th> <td>   2.486</td>\n",
       "</tr>\n",
       "<tr>\n",
       "  <th>Prob(Omnibus):</th> <td> 0.180</td> <th>  Jarque-Bera (JB):  </th> <td>   1.621</td>\n",
       "</tr>\n",
       "<tr>\n",
       "  <th>Skew:</th>          <td>-0.646</td> <th>  Prob(JB):          </th> <td>   0.445</td>\n",
       "</tr>\n",
       "<tr>\n",
       "  <th>Kurtosis:</th>      <td> 3.616</td> <th>  Cond. No.          </th> <td>    6.54</td>\n",
       "</tr>\n",
       "</table><br/><br/>Warnings:<br/>[1] Standard Errors assume that the covariance matrix of the errors is correctly specified."
      ],
      "text/plain": [
       "<class 'statsmodels.iolib.summary.Summary'>\n",
       "\"\"\"\n",
       "                              OLS Regression Results                             \n",
       "=================================================================================\n",
       "Dep. Variable:     incumbent_party_share   R-squared:                       0.486\n",
       "Model:                               OLS   Adj. R-squared:                  0.456\n",
       "Method:                    Least Squares   F-statistic:                     16.08\n",
       "Date:                   Tue, 05 Nov 2024   Prob (F-statistic):           0.000907\n",
       "Time:                           13:25:45   Log-Likelihood:                 35.970\n",
       "No. Observations:                     19   AIC:                            -67.94\n",
       "Df Residuals:                         17   BIC:                            -66.05\n",
       "Df Model:                              1                                         \n",
       "Covariance Type:               nonrobust                                         \n",
       "=====================================================================================\n",
       "                        coef    std err          t      P>|t|      [0.025      0.975]\n",
       "-------------------------------------------------------------------------------------\n",
       "Intercept             0.4526      0.019     24.456      0.000       0.414       0.492\n",
       "avg_recent_growth     0.0261      0.007      4.010      0.001       0.012       0.040\n",
       "==============================================================================\n",
       "Omnibus:                        3.434   Durbin-Watson:                   2.486\n",
       "Prob(Omnibus):                  0.180   Jarque-Bera (JB):                1.621\n",
       "Skew:                          -0.646   Prob(JB):                        0.445\n",
       "Kurtosis:                       3.616   Cond. No.                         6.54\n",
       "==============================================================================\n",
       "\n",
       "Warnings:\n",
       "[1] Standard Errors assume that the covariance matrix of the errors is correctly specified.\n",
       "\"\"\""
      ]
     },
     "execution_count": 30,
     "metadata": {},
     "output_type": "execute_result"
    }
   ],
   "source": [
    "# Follow the steps executed in recitation for OLS regression with statsmodels\n",
    "import statsmodels.formula.api as smf\n",
    "#Use .ols(), set avg_recent_growth as independent var, incumbent_party_share as dependent var. dependent goes left of ~ independent goes right\n",
    "model = smf.ols('incumbent_party_share ~ avg_recent_growth', data=df).fit()\n",
    "#Use .summary() to get specific info on model like coefficient, intercept etc. \n",
    "model.summary()"
   ]
  },
  {
   "cell_type": "markdown",
   "id": "dbb09728-c871-4366-99ea-bbcffd135c6e",
   "metadata": {},
   "source": [
    "The slope is .0261, while the intercept is 0.4526. The intercept in this context represents the Incumbent Party voter share when average recent growth is zero. Essentially, if there was no growth in personal income the incumbent party could still expect a 45.26% share of votes. A slope of .0261 in this context represents the expected change when you increase the average recent growth (input) by 1 unit. "
   ]
  },
  {
   "cell_type": "code",
   "execution_count": 32,
   "id": "714be80c-604e-443c-8c39-c0db88f4d7a5",
   "metadata": {},
   "outputs": [
    {
     "name": "stdout",
     "output_type": "stream",
     "text": [
      "Incumbent Party Popular Vote Share (2024): 0.5171\n"
     ]
    }
   ],
   "source": [
    "# Take slope and intercept from OLS model, and plug in 2.47 value\n",
    "vote_share = 0.4526 + 0.0261 * 2.47\n",
    "\n",
    "print(f\"Incumbent Party Popular Vote Share (2024): {round(vote_share, 4)}\")"
   ]
  },
  {
   "cell_type": "markdown",
   "id": "b2fca8e1-ffee-45a9-85f0-ec4b8b76feac",
   "metadata": {},
   "source": [
    "This means for the 2024 election, if the avg_recent_growth value is 2.47%, the incumbent party could expect a 51.71% share of the popular votes."
   ]
  },
  {
   "cell_type": "code",
   "execution_count": 29,
   "id": "c787f4d1-22a5-4f69-a806-467c008d2907",
   "metadata": {},
   "outputs": [
    {
     "data": {
      "text/plain": [
       "(0.44, 0.6)"
      ]
     },
     "execution_count": 29,
     "metadata": {},
     "output_type": "execute_result"
    }
   ],
   "source": [
    "# Use .resid to get residuals: distance between observed data and predicted data value\n",
    "residuals = model.resid\n",
    " # Number of observations (n)\n",
    "n = len(df)\n",
    "# Calculate S/RMSE, square root of residuals squared summed, divided n - 2\n",
    "s = np.sqrt(np.sum(residuals**2) / (n - 2))\n",
    "# Mean of avg recent growth\n",
    "x_bar = df['avg_recent_growth'].mean()\n",
    "# initialize xnew, avg recent growth in 2024\n",
    "xnew = 2.47\n",
    "#Calculate sum of squared deviations, by taking avg_recent_growth column, subtracting it by the mean, squaring it, and summing all values. \n",
    "sum_of_squared_deviations = np.sum((df['avg_recent_growth'] - x_bar)**2)\n",
    "#Follow the formula in the homework to calculate SEpred, s  times square root of 1 + 1/n + (2.47 - mean)^2 divided by sum of square deviations\n",
    "SEpred = s * np.sqrt(1 + 1/n + ((xnew - x_bar)**2) / sum_of_squared_deviations)\n",
    "# 95% confidence interval means two standard deviations. Multiply SEpred by 2 and -2, and add to vote_share\n",
    "lower_bound = vote_share - 2 * SEpred\n",
    "upper_bound = vote_share + 2 * SEpred\n",
    "\n",
    "# Round each bound to 2 decimal places\n",
    "lower_bound = round(lower_bound, 2)\n",
    "upper_bound = round(upper_bound, 2)\n",
    "# Return bounds\n",
    "lower_bound, upper_bound"
   ]
  }
 ],
 "metadata": {
  "kernelspec": {
   "display_name": "Python [conda env:dsua-111]",
   "language": "python",
   "name": "conda-env-dsua-111-py"
  },
  "language_info": {
   "codemirror_mode": {
    "name": "ipython",
    "version": 3
   },
   "file_extension": ".py",
   "mimetype": "text/x-python",
   "name": "python",
   "nbconvert_exporter": "python",
   "pygments_lexer": "ipython3",
   "version": "3.7.6"
  }
 },
 "nbformat": 4,
 "nbformat_minor": 5
}
